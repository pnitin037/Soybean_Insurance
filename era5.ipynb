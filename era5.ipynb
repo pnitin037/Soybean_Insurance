{
 "cells": [
  {
   "cell_type": "code",
   "execution_count": 4,
   "metadata": {},
   "outputs": [],
   "source": [
    "import netCDF4 as nc \n",
    "import xarray as xr\n",
    "import numpy as np\n",
    "import pandas as pd\n",
    "import dask"
   ]
  },
  {
   "cell_type": "code",
   "execution_count": 7,
   "metadata": {},
   "outputs": [],
   "source": [
    "#  Read the ERA5 data and save the daily temperature at 2 meters in a csv file\n",
    "fll = 'era5/6490d56d1a4096d6d6836b543c4096bb.nc'\n",
    "sd = xr.open_dataset(fll)\n",
    "df = pd.DataFrame(pd.to_datetime(sd['valid_time'].values), columns = ['Time'])\n",
    "df.insert(1, 'T2m', sd['t2m'].mean(dim = ('latitude','longitude')).values)\n",
    "df['T2m'] = df['T2m'] - 273.15\n",
    "df = df.groupby(df['Time'].dt.to_period('D')).mean()\n",
    "df = df.drop(columns = ['Time'])\n",
    "df.to_csv('era5/era5_daily_temperature_2_meter.csv')\n"
   ]
  },
  {
   "cell_type": "code",
   "execution_count": 8,
   "metadata": {},
   "outputs": [],
   "source": [
    "# Read the ERA5 data and save the daily Soil water level 1 in a csv file\n",
    "fl = 'era5/a5e0a1639600b2193133063133aa65fa.nc'\n",
    "sd = xr.open_dataset(fl)\n",
    "df = pd.DataFrame(pd.to_datetime(sd['valid_time'].values), columns = ['Time'])\n",
    "df.insert(1, 'Soil_water_l1', sd['swvl1'].mean(dim = ('latitude','longitude')).values)\n",
    "df['Soil_water_l1'] = df['Soil_water_l1']*100\n",
    "df = df.groupby(df['Time'].dt.to_period('D')).mean()\n",
    "df = df.drop(columns = ['Time'])\n",
    "df.to_csv('era5/era5_daily_soil_water_l1.csv')\n"
   ]
  },
  {
   "cell_type": "code",
   "execution_count": 12,
   "metadata": {},
   "outputs": [],
   "source": [
    "# Read the ERA5 data and save the daily Soil temperature level 1 in a csv file\n",
    "fl = 'era5/cc6661065173ddcc3fed13d774a965bf.nc'\n",
    "sd = xr.open_dataset(fl)\n",
    "df = pd.DataFrame(pd.to_datetime(sd['valid_time'].values), columns = ['Time'])\n",
    "df.insert(1, 'Soil_temp_l1', sd['stl1'].mean(dim = ('latitude','longitude')).values)\n",
    "df['Soil_temp_l1'] = df['Soil_temp_l1'] - 273.15\n",
    "df = df.groupby(df['Time'].dt.to_period('D')).mean()\n",
    "df = df.drop(columns = ['Time'])\n",
    "df.to_csv('era5/era5_daily_soil_temp_l1.csv')"
   ]
  },
  {
   "cell_type": "code",
   "execution_count": 18,
   "metadata": {},
   "outputs": [],
   "source": [
    "# Read the ERA5 data and save the daily Precipitation in a csv file\n",
    "fl = 'era5/ff9c9f2f03dfa97eb1c241360e4322ce.nc'\n",
    "sd = xr.open_dataset(fl)\n",
    "df = pd.DataFrame(pd.to_datetime(sd['valid_time'].values), columns = ['Time'])\n",
    "df.insert(1, 'Precipitation', sd['tp'].mean(dim = ('latitude','longitude')).values)\n",
    "df['Precipitation'] = df['Precipitation']*1000\n",
    "df = df.groupby(df['Time'].dt.to_period('D')).mean()\n",
    "df = df.drop(columns = ['Time'])\n",
    "df.to_csv('era5/era5_daily_precipitation.csv')"
   ]
  },
  {
   "cell_type": "code",
   "execution_count": 23,
   "metadata": {},
   "outputs": [],
   "source": [
    "# Read the ERA5 data and save the daily Soil temperature level 3 in a csv file\n",
    "l = 'era5/1d7e197b010db5b0a151370d1c5b9a19.nc'\n",
    "sd = xr.open_dataset(fl)\n",
    "df = pd.DataFrame(pd.to_datetime(sd['valid_time'].values), columns = ['Time'])\n",
    "df.insert(1, 'Soil_temp_l3', sd['stl3'].mean(dim = ('latitude','longitude')).values)\n",
    "df['Soil_temp_l3'] = df['Soil_temp_l3'] - 273.15\n",
    "df = df.groupby(df['Time'].dt.to_period('D')).mean()\n",
    "df = df.drop(columns = ['Time'])\n",
    "df.to_csv('era5/era5_daily_soil_temp_l3.csv')"
   ]
  },
  {
   "cell_type": "code",
   "execution_count": 32,
   "metadata": {},
   "outputs": [],
   "source": [
    "# Read the ERA5 data and save the daily max temperature 2m above the soil in a csv file\n",
    "fl = 'era5/98b3ed54c337faa72c0e3bfb3c986c15.nc'\n",
    "sd = xr.open_dataset(fl)\n",
    "df = pd.DataFrame(pd.to_datetime(sd['valid_time'].values), columns = ['Time'])\n",
    "df.insert(1, 'Temp_2m_max', sd['mx2t'].mean(dim = ('latitude','longitude')).values)\n",
    "df['Temp_2m_max'] = df['Temp_2m_max'] - 273.15\n",
    "df = df.groupby(df['Time'].dt.to_period('D')).mean()\n",
    "df = df.drop(columns = ['Time'])\n",
    "df.to_csv('era5/era5_daily_temp_2m_max.csv')"
   ]
  },
  {
   "cell_type": "code",
   "execution_count": 42,
   "metadata": {},
   "outputs": [],
   "source": [
    "# Read the ERA5 data and save the daily Soil water level 3 in a csv file\n",
    "fl = 'era5/be2a5010fcd3767beb264d40f246435c.nc'\n",
    "sd = xr.open_dataset(fl)\n",
    "df = pd.DataFrame(pd.to_datetime(sd['valid_time'].values), columns = ['Time'])\n",
    "df.insert(1, 'Soil_water_l3', sd['swvl3'].mean(dim = ('latitude','longitude')).values)\n",
    "df['Soil_water_l3'] = df['Soil_water_l3']*100\n",
    "df = df.groupby(df['Time'].dt.to_period('D')).mean()\n",
    "df = df.drop(columns = ['Time'])\n",
    "df.to_csv('era5/era5_daily_soil_water_l3.csv')"
   ]
  }
 ],
 "metadata": {
  "kernelspec": {
   "display_name": "Python 3",
   "language": "python",
   "name": "python3"
  },
  "language_info": {
   "codemirror_mode": {
    "name": "ipython",
    "version": 3
   },
   "file_extension": ".py",
   "mimetype": "text/x-python",
   "name": "python",
   "nbconvert_exporter": "python",
   "pygments_lexer": "ipython3",
   "version": "3.12.6"
  }
 },
 "nbformat": 4,
 "nbformat_minor": 2
}
